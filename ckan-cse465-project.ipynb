{
 "cells": [
  {
   "cell_type": "code",
   "execution_count": 1,
   "id": "966eb6b5",
   "metadata": {
    "execution": {
     "iopub.execute_input": "2025-03-27T06:30:22.257955Z",
     "iopub.status.busy": "2025-03-27T06:30:22.257681Z",
     "iopub.status.idle": "2025-03-27T06:30:25.157839Z",
     "shell.execute_reply": "2025-03-27T06:30:25.156789Z"
    },
    "id": "G3ON1g796HrG",
    "outputId": "216e381d-d492-4e5f-d96a-048baced6bc5",
    "papermill": {
     "duration": 2.905054,
     "end_time": "2025-03-27T06:30:25.159245",
     "exception": false,
     "start_time": "2025-03-27T06:30:22.254191",
     "status": "completed"
    },
    "tags": []
   },
   "outputs": [
    {
     "name": "stdout",
     "output_type": "stream",
     "text": [
      "Cloning into '/kaggle/working/Convolutional-KANs'...\r\n",
      "remote: Enumerating objects: 2379, done.\u001b[K\r\n",
      "remote: Counting objects: 100% (409/409), done.\u001b[K\r\n",
      "remote: Compressing objects: 100% (209/209), done.\u001b[K\r\n",
      "remote: Total 2379 (delta 266), reused 311 (delta 196), pack-reused 1970 (from 1)\u001b[K\r\n",
      "Receiving objects: 100% (2379/2379), 45.65 MiB | 35.12 MiB/s, done.\r\n",
      "Resolving deltas: 100% (1286/1286), done.\r\n",
      "/kaggle/working/Convolutional-KANs\n"
     ]
    }
   ],
   "source": [
    "# Clone the CKAN repository into Kaggle's writable working directory\n",
    "!git clone https://github.com/AntonioTepsich/ckan.git /kaggle/working/Convolutional-KANs\n",
    "\n",
    "# Change the current working directory to the cloned repository\n",
    "%cd /kaggle/working/Convolutional-KANs"
   ]
  },
  {
   "cell_type": "code",
   "execution_count": 2,
   "id": "4f6cbb18",
   "metadata": {
    "execution": {
     "iopub.execute_input": "2025-03-27T06:30:25.167146Z",
     "iopub.status.busy": "2025-03-27T06:30:25.166889Z",
     "iopub.status.idle": "2025-03-27T06:30:33.636351Z",
     "shell.execute_reply": "2025-03-27T06:30:33.635672Z"
    },
    "papermill": {
     "duration": 8.475021,
     "end_time": "2025-03-27T06:30:33.637880",
     "exception": false,
     "start_time": "2025-03-27T06:30:25.162859",
     "status": "completed"
    },
    "tags": []
   },
   "outputs": [],
   "source": [
    "# Import PyTorch core modules for neural network operations\n",
    "import torch\n",
    "import torch.nn as nn\n",
    "import torch.nn.functional as F  # Functional operations like activation functions\n",
    "import torch.optim as optim  # Optimization algorithms (e.g., Adam)\n",
    "\n",
    "# Import torchvision utilities for dataset handling and transformations\n",
    "import torchvision.transforms as transforms\n",
    "from torchvision.datasets import FashionMNIST  # Fashion MNIST dataset loader\n",
    "\n",
    "# Import data loading and splitting utilities\n",
    "from torch.utils.data import DataLoader, random_split\n",
    "\n",
    "# Import the custom KAN convolutional layer from the cloned repository\n",
    "from kan_convolutional.KANConv import KAN_Convolutional_Layer\n",
    "\n",
    "# Import sklearn metrics for evaluation\n",
    "from sklearn.metrics import precision_score, recall_score, f1_score\n",
    "\n",
    "# Import numpy for numerical operations and matplotlib for plotting\n",
    "import numpy as np\n",
    "import matplotlib.pyplot as plt\n",
    "\n",
    "# Import learning rate scheduler\n",
    "from torch.optim.lr_scheduler import ReduceLROnPlateau"
   ]
  },
  {
   "cell_type": "code",
   "execution_count": 3,
   "id": "ea55e9de",
   "metadata": {
    "execution": {
     "iopub.execute_input": "2025-03-27T06:30:33.645497Z",
     "iopub.status.busy": "2025-03-27T06:30:33.645067Z",
     "iopub.status.idle": "2025-03-27T06:30:33.651649Z",
     "shell.execute_reply": "2025-03-27T06:30:33.651049Z"
    },
    "papermill": {
     "duration": 0.011483,
     "end_time": "2025-03-27T06:30:33.652878",
     "exception": false,
     "start_time": "2025-03-27T06:30:33.641395",
     "status": "completed"
    },
    "tags": []
   },
   "outputs": [],
   "source": [
    "# Define the KANC_MLP class inheriting from PyTorch's nn.Module\n",
    "class KANC_MLP(nn.Module):\n",
    "    def __init__(self, grid_size: int = 5):\n",
    "        super().__init__()  # Initialize the parent nn.Module class\n",
    "        \n",
    "        # First KAN convolutional layer: 1 input channel (grayscale) to 5 output channels\n",
    "        self.conv1 = KAN_Convolutional_Layer(\n",
    "            in_channels=1,          # Fashion MNIST is grayscale\n",
    "            out_channels=5,\n",
    "            kernel_size=(3,3),\n",
    "            grid_size=grid_size     # Controls the complexity of KAN approximation\n",
    "        )\n",
    "        \n",
    "        # Second KAN convolutional layer: 5 input channels to 5 output channels\n",
    "        self.conv2 = KAN_Convolutional_Layer(\n",
    "            in_channels=5,\n",
    "            out_channels=5,\n",
    "            kernel_size=(3,3),\n",
    "            grid_size=grid_size\n",
    "        )\n",
    "        \n",
    "        # Max pooling layer to reduce spatial dimensions by half\n",
    "        self.pool1 = nn.MaxPool2d(kernel_size=(2, 2))\n",
    "        \n",
    "        # Flatten layer to convert 2D feature maps to 1D vector\n",
    "        self.flat = nn.Flatten()\n",
    "        \n",
    "        # Fully connected layer: 125 input features (5x5x5) to 10 output classes\n",
    "        self.linear1 = nn.Linear(125, 10)  # Matches Fashion MNIST 28x28 input\n",
    "        \n",
    "        # Model name for identification\n",
    "        self.name = f\"KANC MLP (Small) (gs = {grid_size})\"\n",
    "\n",
    "    # Forward pass definition\n",
    "    def forward(self, x):\n",
    "        x = self.conv1(x)      # Apply first KAN convolution\n",
    "        x = self.pool1(x)      # Apply pooling\n",
    "        x = self.conv2(x)      # Apply second KAN convolution\n",
    "        x = self.pool1(x)      # Apply pooling again\n",
    "        x = self.flat(x)       # Flatten the feature maps\n",
    "        # Uncomment below to debug tensor dimensions if needed\n",
    "        # print(x.shape)\n",
    "        x = self.linear1(x)    # Apply fully connected layer\n",
    "        x = F.log_softmax(x, dim=1)  # Apply log softmax for classification\n",
    "        return x"
   ]
  },
  {
   "cell_type": "code",
   "execution_count": 4,
   "id": "d04db876",
   "metadata": {
    "execution": {
     "iopub.execute_input": "2025-03-27T06:30:33.659758Z",
     "iopub.status.busy": "2025-03-27T06:30:33.659546Z",
     "iopub.status.idle": "2025-03-27T06:30:40.064500Z",
     "shell.execute_reply": "2025-03-27T06:30:40.063412Z"
    },
    "papermill": {
     "duration": 6.409945,
     "end_time": "2025-03-27T06:30:40.065958",
     "exception": false,
     "start_time": "2025-03-27T06:30:33.656013",
     "status": "completed"
    },
    "tags": []
   },
   "outputs": [
    {
     "name": "stdout",
     "output_type": "stream",
     "text": [
      "Downloading http://fashion-mnist.s3-website.eu-central-1.amazonaws.com/train-images-idx3-ubyte.gz\n",
      "Downloading http://fashion-mnist.s3-website.eu-central-1.amazonaws.com/train-images-idx3-ubyte.gz to /kaggle/working/data/FashionMNIST/raw/train-images-idx3-ubyte.gz\n"
     ]
    },
    {
     "name": "stderr",
     "output_type": "stream",
     "text": [
      "100%|██████████| 26.4M/26.4M [00:01<00:00, 14.1MB/s]\n"
     ]
    },
    {
     "name": "stdout",
     "output_type": "stream",
     "text": [
      "Extracting /kaggle/working/data/FashionMNIST/raw/train-images-idx3-ubyte.gz to /kaggle/working/data/FashionMNIST/raw\n",
      "\n",
      "Downloading http://fashion-mnist.s3-website.eu-central-1.amazonaws.com/train-labels-idx1-ubyte.gz\n",
      "Downloading http://fashion-mnist.s3-website.eu-central-1.amazonaws.com/train-labels-idx1-ubyte.gz to /kaggle/working/data/FashionMNIST/raw/train-labels-idx1-ubyte.gz\n"
     ]
    },
    {
     "name": "stderr",
     "output_type": "stream",
     "text": [
      "100%|██████████| 29.5k/29.5k [00:00<00:00, 208kB/s]\n"
     ]
    },
    {
     "name": "stdout",
     "output_type": "stream",
     "text": [
      "Extracting /kaggle/working/data/FashionMNIST/raw/train-labels-idx1-ubyte.gz to /kaggle/working/data/FashionMNIST/raw\n",
      "\n",
      "Downloading http://fashion-mnist.s3-website.eu-central-1.amazonaws.com/t10k-images-idx3-ubyte.gz\n",
      "Downloading http://fashion-mnist.s3-website.eu-central-1.amazonaws.com/t10k-images-idx3-ubyte.gz to /kaggle/working/data/FashionMNIST/raw/t10k-images-idx3-ubyte.gz\n"
     ]
    },
    {
     "name": "stderr",
     "output_type": "stream",
     "text": [
      "100%|██████████| 4.42M/4.42M [00:01<00:00, 3.85MB/s]\n"
     ]
    },
    {
     "name": "stdout",
     "output_type": "stream",
     "text": [
      "Extracting /kaggle/working/data/FashionMNIST/raw/t10k-images-idx3-ubyte.gz to /kaggle/working/data/FashionMNIST/raw\n",
      "\n",
      "Downloading http://fashion-mnist.s3-website.eu-central-1.amazonaws.com/t10k-labels-idx1-ubyte.gz\n",
      "Downloading http://fashion-mnist.s3-website.eu-central-1.amazonaws.com/t10k-labels-idx1-ubyte.gz to /kaggle/working/data/FashionMNIST/raw/t10k-labels-idx1-ubyte.gz\n"
     ]
    },
    {
     "name": "stderr",
     "output_type": "stream",
     "text": [
      "100%|██████████| 5.15k/5.15k [00:00<00:00, 10.8MB/s]"
     ]
    },
    {
     "name": "stdout",
     "output_type": "stream",
     "text": [
      "Extracting /kaggle/working/data/FashionMNIST/raw/t10k-labels-idx1-ubyte.gz to /kaggle/working/data/FashionMNIST/raw\n",
      "\n"
     ]
    },
    {
     "name": "stderr",
     "output_type": "stream",
     "text": [
      "\n"
     ]
    }
   ],
   "source": [
    "# Define training transformations with data augmentation\n",
    "train_transform = transforms.Compose([\n",
    "    transforms.RandomRotation(10),          # Randomly rotate images by ±10 degrees\n",
    "    transforms.RandomAffine(degrees=0, translate=(0.1, 0.1)),  # Random translation\n",
    "    transforms.ToTensor(),                  # Convert images to PyTorch tensors\n",
    "    transforms.Normalize((0.5,), (0.5,))    # Normalize to [-1, 1] range\n",
    "])\n",
    "\n",
    "# Define test transformations (no augmentation)\n",
    "test_transform = transforms.Compose([\n",
    "    transforms.ToTensor(),\n",
    "    transforms.Normalize((0.5,), (0.5,))\n",
    "])\n",
    "\n",
    "# Load Fashion MNIST dataset into Kaggle's writable directory\n",
    "full_train_dataset = FashionMNIST(root='/kaggle/working/data', train=True, download=True, transform=train_transform)\n",
    "test_dataset = FashionMNIST(root='/kaggle/working/data', train=False, download=True, transform=test_transform)\n",
    "\n",
    "# Split training data into 80% train and 20% validation\n",
    "train_size = int(0.8 * len(full_train_dataset))\n",
    "val_size = len(full_train_dataset) - train_size\n",
    "train_dataset, val_dataset = random_split(full_train_dataset, [train_size, val_size])\n",
    "\n",
    "# Create data loaders for batching and shuffling\n",
    "train_loader = DataLoader(train_dataset, batch_size=32, shuffle=True, num_workers=2)  # Training data\n",
    "val_loader = DataLoader(val_dataset, batch_size=32, shuffle=False, num_workers=2)    # Validation data\n",
    "test_loader = DataLoader(test_dataset, batch_size=32, shuffle=False, num_workers=2)  # Test data"
   ]
  },
  {
   "cell_type": "code",
   "execution_count": 5,
   "id": "1036a50e",
   "metadata": {
    "execution": {
     "iopub.execute_input": "2025-03-27T06:30:40.077634Z",
     "iopub.status.busy": "2025-03-27T06:30:40.077324Z",
     "iopub.status.idle": "2025-03-27T06:30:40.438552Z",
     "shell.execute_reply": "2025-03-27T06:30:40.437575Z"
    },
    "papermill": {
     "duration": 0.368599,
     "end_time": "2025-03-27T06:30:40.440009",
     "exception": false,
     "start_time": "2025-03-27T06:30:40.071410",
     "status": "completed"
    },
    "tags": []
   },
   "outputs": [
    {
     "name": "stdout",
     "output_type": "stream",
     "text": [
      "Using device: cuda\n"
     ]
    }
   ],
   "source": [
    "# Set device to GPU if available, otherwise CPU\n",
    "device = torch.device(\"cuda\" if torch.cuda.is_available() else \"cpu\")\n",
    "\n",
    "# Initialize the model and move it to the selected device\n",
    "model = KANC_MLP(grid_size=5).to(device)\n",
    "\n",
    "# Define cross-entropy loss function for classification\n",
    "criterion = nn.CrossEntropyLoss()\n",
    "\n",
    "# Set up Adam optimizer with initial learning rate of 0.001\n",
    "optimizer = optim.Adam(model.parameters(), lr=0.001)\n",
    "\n",
    "# Configure learning rate scheduler to reduce LR on plateau\n",
    "scheduler = ReduceLROnPlateau(optimizer, mode='min', factor=0.5, patience=2)  # Reduce LR by 0.5 if no improvement\n",
    "\n",
    "# Print the device being used for confirmation\n",
    "print(f\"Using device: {device}\")"
   ]
  },
  {
   "cell_type": "code",
   "execution_count": 6,
   "id": "03e616cb",
   "metadata": {
    "execution": {
     "iopub.execute_input": "2025-03-27T06:30:40.452093Z",
     "iopub.status.busy": "2025-03-27T06:30:40.451831Z",
     "iopub.status.idle": "2025-03-27T06:49:45.529588Z",
     "shell.execute_reply": "2025-03-27T06:49:45.528493Z"
    },
    "papermill": {
     "duration": 1145.090225,
     "end_time": "2025-03-27T06:49:45.535750",
     "exception": false,
     "start_time": "2025-03-27T06:30:40.445525",
     "status": "completed"
    },
    "tags": []
   },
   "outputs": [
    {
     "name": "stdout",
     "output_type": "stream",
     "text": [
      "Epoch [1/10]\n",
      "Train Loss: 0.8509, Val Loss: 0.6800, Val Accuracy: 74.29%, LR: 0.001000\n",
      "Epoch [2/10]\n",
      "Train Loss: 0.6508, Val Loss: 0.6401, Val Accuracy: 75.47%, LR: 0.001000\n",
      "Epoch [3/10]\n",
      "Train Loss: 0.6070, Val Loss: 0.5973, Val Accuracy: 77.46%, LR: 0.001000\n",
      "Epoch [4/10]\n",
      "Train Loss: 0.5843, Val Loss: 0.5960, Val Accuracy: 77.22%, LR: 0.001000\n",
      "Epoch [5/10]\n",
      "Train Loss: 0.5618, Val Loss: 0.5615, Val Accuracy: 79.12%, LR: 0.001000\n",
      "Epoch [6/10]\n",
      "Train Loss: 0.5501, Val Loss: 0.5452, Val Accuracy: 79.37%, LR: 0.001000\n",
      "Epoch [7/10]\n",
      "Train Loss: 0.5336, Val Loss: 0.5482, Val Accuracy: 79.54%, LR: 0.001000\n",
      "Epoch [8/10]\n",
      "Train Loss: 0.5250, Val Loss: 0.5312, Val Accuracy: 80.60%, LR: 0.001000\n",
      "Epoch [9/10]\n",
      "Train Loss: 0.5167, Val Loss: 0.5184, Val Accuracy: 81.17%, LR: 0.001000\n",
      "Epoch [10/10]\n",
      "Train Loss: 0.5103, Val Loss: 0.5059, Val Accuracy: 80.99%, LR: 0.001000\n"
     ]
    }
   ],
   "source": [
    "# Set number of training epochs to 1 as requested\n",
    "epochs = 10\n",
    "\n",
    "# Lists to store metrics for plotting\n",
    "train_losses = []       # Training loss per epoch\n",
    "val_losses = []         # Validation loss per epoch\n",
    "val_accuracies = []     # Validation accuracy per epoch\n",
    "learning_rates = []     # Learning rate per epoch\n",
    "\n",
    "# Training loop over specified epochs\n",
    "for epoch in range(epochs):\n",
    "    # Set model to training mode\n",
    "    model.train()\n",
    "    train_loss = 0.0\n",
    "    \n",
    "    # Iterate over training batches\n",
    "    for images, labels in train_loader:\n",
    "        images, labels = images.to(device), labels.to(device)  # Move data to device\n",
    "        optimizer.zero_grad()         # Clear previous gradients\n",
    "        outputs = model(images)       # Forward pass\n",
    "        loss = criterion(outputs, labels)  # Compute loss\n",
    "        loss.backward()               # Backward pass\n",
    "        optimizer.step()              # Update weights\n",
    "        train_loss += loss.item()     # Accumulate loss\n",
    "    \n",
    "    # Calculate and store average training loss\n",
    "    avg_train_loss = train_loss / len(train_loader)\n",
    "    train_losses.append(avg_train_loss)\n",
    "\n",
    "    # Set model to evaluation mode for validation\n",
    "    model.eval()\n",
    "    val_loss = 0.0\n",
    "    correct = 0\n",
    "    total = 0\n",
    "    \n",
    "    # Validation phase (no gradient computation)\n",
    "    with torch.no_grad():\n",
    "        for images, labels in val_loader:\n",
    "            images, labels = images.to(device), labels.to(device)\n",
    "            outputs = model(images)\n",
    "            loss = criterion(outputs, labels)\n",
    "            val_loss += loss.item()\n",
    "            _, predicted = torch.max(outputs.data, 1)  # Get predicted classes\n",
    "            total += labels.size(0)                   # Total samples\n",
    "            correct += (predicted == labels).sum().item()  # Correct predictions\n",
    "    \n",
    "    # Calculate validation metrics\n",
    "    avg_val_loss = val_loss / len(val_loader)\n",
    "    val_accuracy = 100 * correct / total\n",
    "    val_losses.append(avg_val_loss)\n",
    "    val_accuracies.append(val_accuracy)\n",
    "\n",
    "    # Get and store current learning rate\n",
    "    current_lr = optimizer.param_groups[0]['lr']\n",
    "    learning_rates.append(current_lr)\n",
    "\n",
    "    # Update learning rate based on validation loss\n",
    "    scheduler.step(avg_val_loss)\n",
    "\n",
    "    # Print epoch statistics\n",
    "    print(f\"Epoch [{epoch+1}/{epochs}]\")\n",
    "    print(f\"Train Loss: {avg_train_loss:.4f}, Val Loss: {avg_val_loss:.4f}, Val Accuracy: {val_accuracy:.2f}%, LR: {current_lr:.6f}\")"
   ]
  },
  {
   "cell_type": "code",
   "execution_count": 7,
   "id": "ef41870c",
   "metadata": {
    "execution": {
     "iopub.execute_input": "2025-03-27T06:49:45.548139Z",
     "iopub.status.busy": "2025-03-27T06:49:45.547867Z",
     "iopub.status.idle": "2025-03-27T06:49:55.183800Z",
     "shell.execute_reply": "2025-03-27T06:49:55.182873Z"
    },
    "papermill": {
     "duration": 9.643824,
     "end_time": "2025-03-27T06:49:55.185314",
     "exception": false,
     "start_time": "2025-03-27T06:49:45.541490",
     "status": "completed"
    },
    "tags": []
   },
   "outputs": [
    {
     "name": "stdout",
     "output_type": "stream",
     "text": [
      "\n",
      "Test set:\n",
      "Accuracy: 83.64%\n",
      "Precision: 0.84\n",
      "Recall: 0.84\n",
      "F1 Score: 0.83\n"
     ]
    },
    {
     "data": {
      "image/png": "[encoded data removed]",
      "text/plain": [
       "<Figure size 1800x400 with 3 Axes>"
      ]
     },
     "metadata": {},
     "output_type": "display_data"
    }
   ],
   "source": [
    "# Set model to evaluation mode for testing\n",
    "model.eval()\n",
    "test_loss = 0\n",
    "correct = 0\n",
    "all_targets = []        # Store true labels\n",
    "all_predictions = []    # Store predicted labels\n",
    "\n",
    "# Test phase (no gradient computation)\n",
    "with torch.no_grad():\n",
    "    for images, labels in test_loader:\n",
    "        images, labels = images.to(device), labels.to(device)\n",
    "        outputs = model(images)\n",
    "        test_loss += criterion(outputs, labels).item()  # Accumulate test loss\n",
    "        _, predicted = torch.max(outputs.data, 1)       # Get predictions\n",
    "        correct += (labels == predicted).sum().item()   # Count correct predictions\n",
    "        all_targets.extend(labels.cpu().numpy())        # Store targets\n",
    "        all_predictions.extend(predicted.cpu().numpy()) # Store predictions\n",
    "\n",
    "# Calculate test metrics\n",
    "test_loss /= len(test_loader.dataset)\n",
    "accuracy = 100 * correct / len(test_loader.dataset)\n",
    "precision = precision_score(all_targets, all_predictions, average='macro')\n",
    "recall = recall_score(all_targets, all_predictions, average='macro')\n",
    "f1 = f1_score(all_targets, all_predictions, average='macro')\n",
    "\n",
    "# Print test results\n",
    "print('\\nTest set:')\n",
    "print(f'Accuracy: {accuracy:.2f}%')\n",
    "print(f'Precision: {precision:.2f}')\n",
    "print(f'Recall: {recall:.2f}')\n",
    "print(f'F1 Score: {f1:.2f}')\n",
    "\n",
    "# Create visualization of training progress\n",
    "plt.figure(figsize=(18, 4))  # Set figure size for three subplots\n",
    "\n",
    "# Plot training and validation loss\n",
    "plt.subplot(1, 3, 1)\n",
    "plt.plot(train_losses, label='Train Loss')\n",
    "plt.plot(val_losses, label='Validation Loss')\n",
    "plt.xlabel('Epoch')\n",
    "plt.ylabel('Loss')\n",
    "plt.legend()\n",
    "plt.title('Training and Validation Loss')\n",
    "\n",
    "# Plot validation accuracy\n",
    "plt.subplot(1, 3, 2)\n",
    "plt.plot(val_accuracies, label='Validation Accuracy')\n",
    "plt.xlabel('Epoch')\n",
    "plt.ylabel('Accuracy (%)')\n",
    "plt.legend()\n",
    "plt.title('Validation Accuracy')\n",
    "\n",
    "# Plot learning rate\n",
    "plt.subplot(1, 3, 3)\n",
    "plt.plot(learning_rates, label='Learning Rate')\n",
    "plt.xlabel('Epoch')\n",
    "plt.ylabel('Learning Rate')\n",
    "plt.legend()\n",
    "plt.title('Learning Rate Schedule')\n",
    "\n",
    "# Adjust layout and display plots\n",
    "plt.tight_layout()\n",
    "plt.show()"
   ]
  }
 ],
 "metadata": {
  "colab": {
   "provenance": []
  },
  "kaggle": {
   "accelerator": "gpu",
   "dataSources": [],
   "dockerImageVersionId": 30919,
   "isGpuEnabled": true,
   "isInternetEnabled": true,
   "language": "python",
   "sourceType": "notebook"
  },
  "kernelspec": {
   "display_name": "Python 3",
   "language": "python",
   "name": "python3"
  },
  "language_info": {
   "codemirror_mode": {
    "name": "ipython",
    "version": 3
   },
   "file_extension": ".py",
   "mimetype": "text/x-python",
   "name": "python",
   "nbconvert_exporter": "python",
   "pygments_lexer": "ipython3",
   "version": "3.10.12"
  },
  "papermill": {
   "default_parameters": {},
   "duration": 1177.212614,
   "end_time": "2025-03-27T06:49:56.814412",
   "environment_variables": {},
   "exception": null,
   "input_path": "__notebook__.ipynb",
   "output_path": "__notebook__.ipynb",
   "parameters": {},
   "start_time": "2025-03-27T06:30:19.601798",
   "version": "2.6.0"
  }
 },
 "nbformat": 4,
 "nbformat_minor": 5
}
