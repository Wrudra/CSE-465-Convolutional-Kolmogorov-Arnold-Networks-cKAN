{
 "cells": [
  {
   "cell_type": "code",
   "execution_count": 1,
   "id": "d0295fec",
   "metadata": {
    "execution": {
     "iopub.execute_input": "2025-03-23T20:51:08.398886Z",
     "iopub.status.busy": "2025-03-23T20:51:08.398602Z",
     "iopub.status.idle": "2025-03-23T20:51:11.295763Z",
     "shell.execute_reply": "2025-03-23T20:51:11.294580Z"
    },
    "id": "G3ON1g796HrG",
    "outputId": "216e381d-d492-4e5f-d96a-048baced6bc5",
    "papermill": {
     "duration": 2.902293,
     "end_time": "2025-03-23T20:51:11.297276",
     "exception": false,
     "start_time": "2025-03-23T20:51:08.394983",
     "status": "completed"
    },
    "tags": []
   },
   "outputs": [
    {
     "name": "stdout",
     "output_type": "stream",
     "text": [
      "Cloning into '/kaggle/working/Convolutional-KANs'...\r\n",
      "remote: Enumerating objects: 2379, done.\u001b[K\r\n",
      "remote: Counting objects: 100% (409/409), done.\u001b[K\r\n",
      "remote: Compressing objects: 100% (209/209), done.\u001b[K\r\n",
      "remote: Total 2379 (delta 266), reused 311 (delta 196), pack-reused 1970 (from 1)\u001b[K\r\n",
      "Receiving objects: 100% (2379/2379), 45.65 MiB | 36.32 MiB/s, done.\r\n",
      "Resolving deltas: 100% (1286/1286), done.\r\n",
      "/kaggle/working/Convolutional-KANs\n"
     ]
    }
   ],
   "source": [
    "# Clone into a writable directory\n",
    "!git clone https://github.com/AntonioTepsich/ckan.git /kaggle/working/Convolutional-KANs\n",
    "%cd /kaggle/working/Convolutional-KANs"
   ]
  },
  {
   "cell_type": "code",
   "execution_count": 2,
   "id": "02cca4d9",
   "metadata": {
    "execution": {
     "iopub.execute_input": "2025-03-23T20:51:11.311175Z",
     "iopub.status.busy": "2025-03-23T20:51:11.310728Z",
     "iopub.status.idle": "2025-03-23T20:51:19.934200Z",
     "shell.execute_reply": "2025-03-23T20:51:19.933202Z"
    },
    "papermill": {
     "duration": 8.631335,
     "end_time": "2025-03-23T20:51:19.935955",
     "exception": false,
     "start_time": "2025-03-23T20:51:11.304620",
     "status": "completed"
    },
    "tags": []
   },
   "outputs": [],
   "source": [
    "import torch\n",
    "import torch.nn as nn\n",
    "import torch.nn.functional as F\n",
    "import torch.optim as optim\n",
    "import torchvision.transforms as transforms\n",
    "from torchvision.datasets import MNIST\n",
    "from torch.utils.data import DataLoader, random_split\n",
    "from kan_convolutional.KANConv import KAN_Convolutional_Layer\n",
    "from sklearn.metrics import precision_score, recall_score, f1_score\n",
    "import numpy as np\n",
    "import matplotlib.pyplot as plt\n",
    "from torch.optim.lr_scheduler import ReduceLROnPlateau"
   ]
  },
  {
   "cell_type": "code",
   "execution_count": 3,
   "id": "d7f446b8",
   "metadata": {
    "execution": {
     "iopub.execute_input": "2025-03-23T20:51:19.943814Z",
     "iopub.status.busy": "2025-03-23T20:51:19.943369Z",
     "iopub.status.idle": "2025-03-23T20:51:19.949609Z",
     "shell.execute_reply": "2025-03-23T20:51:19.948712Z"
    },
    "papermill": {
     "duration": 0.011617,
     "end_time": "2025-03-23T20:51:19.951026",
     "exception": false,
     "start_time": "2025-03-23T20:51:19.939409",
     "status": "completed"
    },
    "tags": []
   },
   "outputs": [],
   "source": [
    "class KANC_MLP(nn.Module):\n",
    "    def __init__(self, grid_size: int = 5):\n",
    "        super().__init__()\n",
    "        self.conv1 = KAN_Convolutional_Layer(\n",
    "            in_channels=1,\n",
    "            out_channels=5,\n",
    "            kernel_size=(3,3),\n",
    "            grid_size=grid_size\n",
    "        )\n",
    "        self.conv2 = KAN_Convolutional_Layer(\n",
    "            in_channels=5,\n",
    "            out_channels=5,\n",
    "            kernel_size=(3,3),\n",
    "            grid_size=grid_size\n",
    "        )\n",
    "        self.pool1 = nn.MaxPool2d(kernel_size=(2, 2))\n",
    "        self.flat = nn.Flatten()\n",
    "        self.linear1 = nn.Linear(125, 10)\n",
    "        self.name = f\"KANC MLP (Small) (gs = {grid_size})\"\n",
    "\n",
    "    def forward(self, x):\n",
    "        x = self.conv1(x)\n",
    "        x = self.pool1(x)\n",
    "        x = self.conv2(x)\n",
    "        x = self.pool1(x)\n",
    "        x = self.flat(x)\n",
    "        # Uncomment next line if you get dimension errors\n",
    "        # print(x.shape)\n",
    "        x = self.linear1(x)\n",
    "        x = F.log_softmax(x, dim=1)\n",
    "        return x"
   ]
  },
  {
   "cell_type": "code",
   "execution_count": 4,
   "id": "18ddcf3b",
   "metadata": {
    "execution": {
     "iopub.execute_input": "2025-03-23T20:51:19.958294Z",
     "iopub.status.busy": "2025-03-23T20:51:19.958050Z",
     "iopub.status.idle": "2025-03-23T20:51:23.805324Z",
     "shell.execute_reply": "2025-03-23T20:51:23.804231Z"
    },
    "papermill": {
     "duration": 3.852541,
     "end_time": "2025-03-23T20:51:23.806915",
     "exception": false,
     "start_time": "2025-03-23T20:51:19.954374",
     "status": "completed"
    },
    "tags": []
   },
   "outputs": [
    {
     "name": "stdout",
     "output_type": "stream",
     "text": [
      "Downloading http://yann.lecun.com/exdb/mnist/train-images-idx3-ubyte.gz\n",
      "Failed to download (trying next):\n",
      "HTTP Error 404: Not Found\n",
      "\n",
      "Downloading https://ossci-datasets.s3.amazonaws.com/mnist/train-images-idx3-ubyte.gz\n",
      "Downloading https://ossci-datasets.s3.amazonaws.com/mnist/train-images-idx3-ubyte.gz to /kaggle/working/data/MNIST/raw/train-images-idx3-ubyte.gz\n"
     ]
    },
    {
     "name": "stderr",
     "output_type": "stream",
     "text": [
      "100%|██████████| 9.91M/9.91M [00:00<00:00, 17.6MB/s]\n"
     ]
    },
    {
     "name": "stdout",
     "output_type": "stream",
     "text": [
      "Extracting /kaggle/working/data/MNIST/raw/train-images-idx3-ubyte.gz to /kaggle/working/data/MNIST/raw\n",
      "\n",
      "Downloading http://yann.lecun.com/exdb/mnist/train-labels-idx1-ubyte.gz\n",
      "Failed to download (trying next):\n",
      "HTTP Error 404: Not Found\n",
      "\n",
      "Downloading https://ossci-datasets.s3.amazonaws.com/mnist/train-labels-idx1-ubyte.gz\n",
      "Downloading https://ossci-datasets.s3.amazonaws.com/mnist/train-labels-idx1-ubyte.gz to /kaggle/working/data/MNIST/raw/train-labels-idx1-ubyte.gz\n"
     ]
    },
    {
     "name": "stderr",
     "output_type": "stream",
     "text": [
      "100%|██████████| 28.9k/28.9k [00:00<00:00, 459kB/s]\n"
     ]
    },
    {
     "name": "stdout",
     "output_type": "stream",
     "text": [
      "Extracting /kaggle/working/data/MNIST/raw/train-labels-idx1-ubyte.gz to /kaggle/working/data/MNIST/raw\n",
      "\n",
      "Downloading http://yann.lecun.com/exdb/mnist/t10k-images-idx3-ubyte.gz\n",
      "Failed to download (trying next):\n",
      "HTTP Error 404: Not Found\n",
      "\n",
      "Downloading https://ossci-datasets.s3.amazonaws.com/mnist/t10k-images-idx3-ubyte.gz\n",
      "Downloading https://ossci-datasets.s3.amazonaws.com/mnist/t10k-images-idx3-ubyte.gz to /kaggle/working/data/MNIST/raw/t10k-images-idx3-ubyte.gz\n"
     ]
    },
    {
     "name": "stderr",
     "output_type": "stream",
     "text": [
      "100%|██████████| 1.65M/1.65M [00:00<00:00, 4.36MB/s]\n"
     ]
    },
    {
     "name": "stdout",
     "output_type": "stream",
     "text": [
      "Extracting /kaggle/working/data/MNIST/raw/t10k-images-idx3-ubyte.gz to /kaggle/working/data/MNIST/raw\n",
      "\n",
      "Downloading http://yann.lecun.com/exdb/mnist/t10k-labels-idx1-ubyte.gz\n",
      "Failed to download (trying next):\n",
      "HTTP Error 404: Not Found\n",
      "\n",
      "Downloading https://ossci-datasets.s3.amazonaws.com/mnist/t10k-labels-idx1-ubyte.gz\n",
      "Downloading https://ossci-datasets.s3.amazonaws.com/mnist/t10k-labels-idx1-ubyte.gz to /kaggle/working/data/MNIST/raw/t10k-labels-idx1-ubyte.gz\n"
     ]
    },
    {
     "name": "stderr",
     "output_type": "stream",
     "text": [
      "100%|██████████| 4.54k/4.54k [00:00<00:00, 5.83MB/s]"
     ]
    },
    {
     "name": "stdout",
     "output_type": "stream",
     "text": [
      "Extracting /kaggle/working/data/MNIST/raw/t10k-labels-idx1-ubyte.gz to /kaggle/working/data/MNIST/raw\n",
      "\n"
     ]
    },
    {
     "name": "stderr",
     "output_type": "stream",
     "text": [
      "\n"
     ]
    }
   ],
   "source": [
    "# Enhanced transforms with augmentation\n",
    "train_transform = transforms.Compose([\n",
    "    transforms.RandomRotation(10),\n",
    "    transforms.RandomAffine(degrees=0, translate=(0.1, 0.1)),\n",
    "    transforms.ToTensor(),\n",
    "    transforms.Normalize((0.5,), (0.5,))\n",
    "])\n",
    "\n",
    "test_transform = transforms.Compose([\n",
    "    transforms.ToTensor(),\n",
    "    transforms.Normalize((0.5,), (0.5,))\n",
    "])\n",
    "\n",
    "# Load dataset into Kaggle's writable directory\n",
    "full_train_dataset = MNIST(root='/kaggle/working/data', train=True, download=True, transform=train_transform)\n",
    "test_dataset = MNIST(root='/kaggle/working/data', train=False, download=True, transform=test_transform)\n",
    "\n",
    "# Split into train and validation (80-20 split)\n",
    "train_size = int(0.8 * len(full_train_dataset))\n",
    "val_size = len(full_train_dataset) - train_size\n",
    "train_dataset, val_dataset = random_split(full_train_dataset, [train_size, val_size])\n",
    "\n",
    "# Create data loaders\n",
    "train_loader = DataLoader(train_dataset, batch_size=32, shuffle=True, num_workers=2)\n",
    "val_loader = DataLoader(val_dataset, batch_size=32, shuffle=False, num_workers=2)\n",
    "test_loader = DataLoader(test_dataset, batch_size=32, shuffle=False, num_workers=2)"
   ]
  },
  {
   "cell_type": "code",
   "execution_count": 5,
   "id": "eafbcf8b",
   "metadata": {
    "execution": {
     "iopub.execute_input": "2025-03-23T20:51:23.817244Z",
     "iopub.status.busy": "2025-03-23T20:51:23.816976Z",
     "iopub.status.idle": "2025-03-23T20:51:24.171926Z",
     "shell.execute_reply": "2025-03-23T20:51:24.170909Z"
    },
    "papermill": {
     "duration": 0.361731,
     "end_time": "2025-03-23T20:51:24.173438",
     "exception": false,
     "start_time": "2025-03-23T20:51:23.811707",
     "status": "completed"
    },
    "tags": []
   },
   "outputs": [
    {
     "name": "stdout",
     "output_type": "stream",
     "text": [
      "Using device: cuda\n"
     ]
    }
   ],
   "source": [
    "device = torch.device(\"cuda\" if torch.cuda.is_available() else \"cpu\")\n",
    "model = KANC_MLP(grid_size=5).to(device)\n",
    "criterion = nn.CrossEntropyLoss()\n",
    "optimizer = optim.Adam(model.parameters(), lr=0.001)\n",
    "scheduler = ReduceLROnPlateau(optimizer, mode='min', factor=0.5, patience=2)  # Removed verbose=True\n",
    "\n",
    "# Verify GPU availability\n",
    "print(f\"Using device: {device}\")"
   ]
  },
  {
   "cell_type": "code",
   "execution_count": 6,
   "id": "16e624d3",
   "metadata": {
    "execution": {
     "iopub.execute_input": "2025-03-23T20:51:24.184106Z",
     "iopub.status.busy": "2025-03-23T20:51:24.183771Z",
     "iopub.status.idle": "2025-03-23T21:11:51.979848Z",
     "shell.execute_reply": "2025-03-23T21:11:51.975672Z"
    },
    "papermill": {
     "duration": 1227.809137,
     "end_time": "2025-03-23T21:11:51.987500",
     "exception": false,
     "start_time": "2025-03-23T20:51:24.178363",
     "status": "completed"
    },
    "tags": []
   },
   "outputs": [
    {
     "name": "stdout",
     "output_type": "stream",
     "text": [
      "Epoch [1/10]\n",
      "Train Loss: 0.6639, Val Loss: 0.3151, Val Accuracy: 90.55%\n",
      "Epoch [2/10]\n",
      "Train Loss: 0.2891, Val Loss: 0.2536, Val Accuracy: 92.14%\n",
      "Epoch [3/10]\n",
      "Train Loss: 0.2557, Val Loss: 0.2371, Val Accuracy: 92.82%\n",
      "Epoch [4/10]\n",
      "Train Loss: 0.2357, Val Loss: 0.2377, Val Accuracy: 92.40%\n",
      "Epoch [5/10]\n",
      "Train Loss: 0.2209, Val Loss: 0.2083, Val Accuracy: 93.46%\n",
      "Epoch [6/10]\n",
      "Train Loss: 0.2142, Val Loss: 0.2105, Val Accuracy: 93.51%\n",
      "Epoch [7/10]\n",
      "Train Loss: 0.2104, Val Loss: 0.2038, Val Accuracy: 93.60%\n",
      "Epoch [8/10]\n",
      "Train Loss: 0.2076, Val Loss: 0.1927, Val Accuracy: 94.03%\n",
      "Epoch [9/10]\n",
      "Train Loss: 0.1999, Val Loss: 0.1951, Val Accuracy: 93.80%\n",
      "Epoch [10/10]\n",
      "Train Loss: 0.1972, Val Loss: 0.2002, Val Accuracy: 93.79%\n"
     ]
    }
   ],
   "source": [
    "epochs = 10\n",
    "train_losses = []\n",
    "val_losses = []\n",
    "val_accuracies = []\n",
    "\n",
    "for epoch in range(epochs):\n",
    "    # Training phase\n",
    "    model.train()\n",
    "    train_loss = 0.0\n",
    "    for images, labels in train_loader:\n",
    "        images, labels = images.to(device), labels.to(device)\n",
    "        optimizer.zero_grad()\n",
    "        outputs = model(images)\n",
    "        loss = criterion(outputs, labels)\n",
    "        loss.backward()\n",
    "        optimizer.step()\n",
    "        train_loss += loss.item()\n",
    "    \n",
    "    avg_train_loss = train_loss / len(train_loader)\n",
    "    train_losses.append(avg_train_loss)\n",
    "\n",
    "    # Validation phase\n",
    "    model.eval()\n",
    "    val_loss = 0.0\n",
    "    correct = 0\n",
    "    total = 0\n",
    "    with torch.no_grad():\n",
    "        for images, labels in val_loader:\n",
    "            images, labels = images.to(device), labels.to(device)\n",
    "            outputs = model(images)\n",
    "            loss = criterion(outputs, labels)\n",
    "            val_loss += loss.item()\n",
    "            _, predicted = torch.max(outputs.data, 1)\n",
    "            total += labels.size(0)\n",
    "            correct += (predicted == labels).sum().item()\n",
    "    \n",
    "    avg_val_loss = val_loss / len(val_loader)\n",
    "    val_accuracy = 100 * correct / total\n",
    "    val_losses.append(avg_val_loss)\n",
    "    val_accuracies.append(val_accuracy)\n",
    "\n",
    "    print(f\"Epoch [{epoch+1}/{epochs}]\")\n",
    "    print(f\"Train Loss: {avg_train_loss:.4f}, Val Loss: {avg_val_loss:.4f}, Val Accuracy: {val_accuracy:.2f}%\")\n",
    "    \n",
    "    # Step the scheduler\n",
    "    scheduler.step(avg_val_loss)"
   ]
  },
  {
   "cell_type": "code",
   "execution_count": 7,
   "id": "b5135764",
   "metadata": {
    "execution": {
     "iopub.execute_input": "2025-03-23T21:11:52.000024Z",
     "iopub.status.busy": "2025-03-23T21:11:51.999594Z",
     "iopub.status.idle": "2025-03-23T21:12:02.605262Z",
     "shell.execute_reply": "2025-03-23T21:12:02.604253Z"
    },
    "papermill": {
     "duration": 10.613617,
     "end_time": "2025-03-23T21:12:02.607006",
     "exception": false,
     "start_time": "2025-03-23T21:11:51.993389",
     "status": "completed"
    },
    "tags": []
   },
   "outputs": [
    {
     "name": "stdout",
     "output_type": "stream",
     "text": [
      "\n",
      "Test set:\n",
      "Accuracy: 97.59%\n",
      "Precision: 0.98\n",
      "Recall: 0.98\n",
      "F1 Score: 0.98\n"
     ]
    },
    {
     "data": {
      "image/png": "[encoded data removed]",
      "text/plain": [
       "<Figure size 1200x400 with 2 Axes>"
      ]
     },
     "metadata": {},
     "output_type": "display_data"
    }
   ],
   "source": [
    "# Test evaluation\n",
    "model.eval()\n",
    "test_loss = 0\n",
    "correct = 0\n",
    "all_targets = []\n",
    "all_predictions = []\n",
    "\n",
    "with torch.no_grad():\n",
    "    for images, labels in test_loader:\n",
    "        images, labels = images.to(device), labels.to(device)\n",
    "        outputs = model(images)\n",
    "        test_loss += criterion(outputs, labels).item()\n",
    "        _, predicted = torch.max(outputs.data, 1)\n",
    "        correct += (labels == predicted).sum().item()\n",
    "        all_targets.extend(labels.cpu().numpy())\n",
    "        all_predictions.extend(predicted.cpu().numpy())\n",
    "\n",
    "test_loss /= len(test_loader.dataset)\n",
    "accuracy = 100 * correct / len(test_loader.dataset)\n",
    "precision = precision_score(all_targets, all_predictions, average='macro')\n",
    "recall = recall_score(all_targets, all_predictions, average='macro')\n",
    "f1 = f1_score(all_targets, all_predictions, average='macro')\n",
    "\n",
    "print('\\nTest set:')\n",
    "print(f'Accuracy: {accuracy:.2f}%')\n",
    "print(f'Precision: {precision:.2f}')\n",
    "print(f'Recall: {recall:.2f}')\n",
    "print(f'F1 Score: {f1:.2f}')\n",
    "\n",
    "# Learning curves visualization\n",
    "plt.figure(figsize=(12, 4))\n",
    "\n",
    "plt.subplot(1, 2, 1)\n",
    "plt.plot(train_losses, label='Train Loss')\n",
    "plt.plot(val_losses, label='Validation Loss')\n",
    "plt.xlabel('Epoch')\n",
    "plt.ylabel('Loss')\n",
    "plt.legend()\n",
    "plt.title('Training and Validation Loss')\n",
    "\n",
    "plt.subplot(1, 2, 2)\n",
    "plt.plot(val_accuracies, label='Validation Accuracy')\n",
    "plt.xlabel('Epoch')\n",
    "plt.ylabel('Accuracy (%)')\n",
    "plt.legend()\n",
    "plt.title('Validation Accuracy')\n",
    "\n",
    "plt.tight_layout()\n",
    "plt.show()"
   ]
  }
 ],
 "metadata": {
  "colab": {
   "provenance": []
  },
  "kaggle": {
   "accelerator": "gpu",
   "dataSources": [],
   "dockerImageVersionId": 30919,
   "isGpuEnabled": true,
   "isInternetEnabled": true,
   "language": "python",
   "sourceType": "notebook"
  },
  "kernelspec": {
   "display_name": "Python 3",
   "language": "python",
   "name": "python3"
  },
  "language_info": {
   "codemirror_mode": {
    "name": "ipython",
    "version": 3
   },
   "file_extension": ".py",
   "mimetype": "text/x-python",
   "name": "python",
   "nbconvert_exporter": "python",
   "pygments_lexer": "ipython3",
   "version": "3.10.12"
  },
  "papermill": {
   "default_parameters": {},
   "duration": 1259.418021,
   "end_time": "2025-03-23T21:12:05.037227",
   "environment_variables": {},
   "exception": null,
   "input_path": "__notebook__.ipynb",
   "output_path": "__notebook__.ipynb",
   "parameters": {},
   "start_time": "2025-03-23T20:51:05.619206",
   "version": "2.6.0"
  }
 },
 "nbformat": 4,
 "nbformat_minor": 5
}
