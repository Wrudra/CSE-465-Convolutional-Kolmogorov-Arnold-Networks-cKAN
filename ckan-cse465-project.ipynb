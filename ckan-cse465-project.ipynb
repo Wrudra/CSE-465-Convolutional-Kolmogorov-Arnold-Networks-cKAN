{
 "cells": [
  {
   "cell_type": "code",
   "execution_count": 1,
   "id": "9b1cc513",
   "metadata": {
    "execution": {
     "iopub.execute_input": "2025-03-20T16:06:46.452007Z",
     "iopub.status.busy": "2025-03-20T16:06:46.451724Z",
     "iopub.status.idle": "2025-03-20T16:06:49.280034Z",
     "shell.execute_reply": "2025-03-20T16:06:49.278923Z"
    },
    "id": "w-DiePk6u1rC",
    "outputId": "d31ec2f3-ca9b-444d-be95-1e2195387531",
    "papermill": {
     "duration": 2.833156,
     "end_time": "2025-03-20T16:06:49.281569",
     "exception": false,
     "start_time": "2025-03-20T16:06:46.448413",
     "status": "completed"
    },
    "tags": []
   },
   "outputs": [
    {
     "name": "stdout",
     "output_type": "stream",
     "text": [
      "Cloning into 'Convolutional-KANs'...\r\n",
      "remote: Enumerating objects: 2379, done.\u001b[K\r\n",
      "remote: Counting objects: 100% (409/409), done.\u001b[K\r\n",
      "remote: Compressing objects: 100% (209/209), done.\u001b[K\r\n",
      "remote: Total 2379 (delta 266), reused 311 (delta 196), pack-reused 1970 (from 1)\u001b[K\r\n",
      "Receiving objects: 100% (2379/2379), 45.65 MiB | 35.33 MiB/s, done.\r\n",
      "Resolving deltas: 100% (1286/1286), done.\r\n",
      "/kaggle/working/Convolutional-KANs\n"
     ]
    }
   ],
   "source": [
    "#cloning the CKAN git repository\n",
    "!git clone https://github.com/AntonioTepsich/Convolutional-KANs.git\n",
    "%cd Convolutional-KANs"
   ]
  },
  {
   "cell_type": "code",
   "execution_count": 2,
   "id": "40514bcf",
   "metadata": {
    "execution": {
     "iopub.execute_input": "2025-03-20T16:06:49.289312Z",
     "iopub.status.busy": "2025-03-20T16:06:49.289037Z",
     "iopub.status.idle": "2025-03-20T16:06:58.647501Z",
     "shell.execute_reply": "2025-03-20T16:06:58.646801Z"
    },
    "id": "k9I0ASYjvYxv",
    "papermill": {
     "duration": 9.363842,
     "end_time": "2025-03-20T16:06:58.649061",
     "exception": false,
     "start_time": "2025-03-20T16:06:49.285219",
     "status": "completed"
    },
    "tags": []
   },
   "outputs": [],
   "source": [
    "#loading necessary libraries\n",
    "%load_ext autoreload\n",
    "%autoreload 2\n",
    "import matplotlib.pyplot as plt\n",
    "from tqdm import tqdm\n",
    "import numpy as np\n",
    "import pandas as pd\n",
    "from sklearn.metrics import precision_score, recall_score, f1_score\n",
    "import torch\n",
    "import torch.nn as nn\n",
    "import torch.optim as optim\n",
    "import torchvision.transforms as transforms\n",
    "from torchvision.datasets import MNIST\n",
    "from torch.utils.data import DataLoader\n",
    "from architectures_28x28.CKAN_BN import CKAN_BN\n",
    "from architectures_28x28.SimpleModels import *\n",
    "from architectures_28x28.ConvNet import ConvNet\n",
    "from architectures_28x28.KANConvs_MLP import KANC_MLP\n",
    "from architectures_28x28.KKAN import KKAN_Convolutional_Network\n",
    "from architectures_28x28.conv_and_kan import NormalConvsKAN\n",
    "from kan_convolutional.KANConv import KAN_Convolutional_Layer"
   ]
  },
  {
   "cell_type": "code",
   "execution_count": 3,
   "id": "5251d729",
   "metadata": {
    "execution": {
     "iopub.execute_input": "2025-03-20T16:06:58.656793Z",
     "iopub.status.busy": "2025-03-20T16:06:58.656409Z",
     "iopub.status.idle": "2025-03-20T16:07:02.830465Z",
     "shell.execute_reply": "2025-03-20T16:07:02.829398Z"
    },
    "id": "6TVKuuv2n5hV",
    "outputId": "4fbaec99-b842-409c-e6dc-be6cf187845b",
    "papermill": {
     "duration": 4.179794,
     "end_time": "2025-03-20T16:07:02.832182",
     "exception": false,
     "start_time": "2025-03-20T16:06:58.652388",
     "status": "completed"
    },
    "tags": []
   },
   "outputs": [
    {
     "name": "stdout",
     "output_type": "stream",
     "text": [
      "Downloading http://yann.lecun.com/exdb/mnist/train-images-idx3-ubyte.gz\n",
      "Failed to download (trying next):\n",
      "HTTP Error 404: Not Found\n",
      "\n",
      "Downloading https://ossci-datasets.s3.amazonaws.com/mnist/train-images-idx3-ubyte.gz\n",
      "Downloading https://ossci-datasets.s3.amazonaws.com/mnist/train-images-idx3-ubyte.gz to ./data/MNIST/raw/train-images-idx3-ubyte.gz\n"
     ]
    },
    {
     "name": "stderr",
     "output_type": "stream",
     "text": [
      "100%|██████████| 9.91M/9.91M [00:00<00:00, 15.3MB/s]\n"
     ]
    },
    {
     "name": "stdout",
     "output_type": "stream",
     "text": [
      "Extracting ./data/MNIST/raw/train-images-idx3-ubyte.gz to ./data/MNIST/raw\n",
      "\n",
      "Downloading http://yann.lecun.com/exdb/mnist/train-labels-idx1-ubyte.gz\n",
      "Failed to download (trying next):\n",
      "HTTP Error 404: Not Found\n",
      "\n",
      "Downloading https://ossci-datasets.s3.amazonaws.com/mnist/train-labels-idx1-ubyte.gz\n",
      "Downloading https://ossci-datasets.s3.amazonaws.com/mnist/train-labels-idx1-ubyte.gz to ./data/MNIST/raw/train-labels-idx1-ubyte.gz\n"
     ]
    },
    {
     "name": "stderr",
     "output_type": "stream",
     "text": [
      "100%|██████████| 28.9k/28.9k [00:00<00:00, 455kB/s]\n"
     ]
    },
    {
     "name": "stdout",
     "output_type": "stream",
     "text": [
      "Extracting ./data/MNIST/raw/train-labels-idx1-ubyte.gz to ./data/MNIST/raw\n",
      "\n",
      "Downloading http://yann.lecun.com/exdb/mnist/t10k-images-idx3-ubyte.gz\n",
      "Failed to download (trying next):\n",
      "HTTP Error 404: Not Found\n",
      "\n",
      "Downloading https://ossci-datasets.s3.amazonaws.com/mnist/t10k-images-idx3-ubyte.gz\n",
      "Downloading https://ossci-datasets.s3.amazonaws.com/mnist/t10k-images-idx3-ubyte.gz to ./data/MNIST/raw/t10k-images-idx3-ubyte.gz\n"
     ]
    },
    {
     "name": "stderr",
     "output_type": "stream",
     "text": [
      "100%|██████████| 1.65M/1.65M [00:00<00:00, 4.22MB/s]\n"
     ]
    },
    {
     "name": "stdout",
     "output_type": "stream",
     "text": [
      "Extracting ./data/MNIST/raw/t10k-images-idx3-ubyte.gz to ./data/MNIST/raw\n",
      "\n",
      "Downloading http://yann.lecun.com/exdb/mnist/t10k-labels-idx1-ubyte.gz\n",
      "Failed to download (trying next):\n",
      "HTTP Error 404: Not Found\n",
      "\n",
      "Downloading https://ossci-datasets.s3.amazonaws.com/mnist/t10k-labels-idx1-ubyte.gz\n",
      "Downloading https://ossci-datasets.s3.amazonaws.com/mnist/t10k-labels-idx1-ubyte.gz to ./data/MNIST/raw/t10k-labels-idx1-ubyte.gz\n"
     ]
    },
    {
     "name": "stderr",
     "output_type": "stream",
     "text": [
      "100%|██████████| 4.54k/4.54k [00:00<00:00, 6.66MB/s]"
     ]
    },
    {
     "name": "stdout",
     "output_type": "stream",
     "text": [
      "Extracting ./data/MNIST/raw/t10k-labels-idx1-ubyte.gz to ./data/MNIST/raw\n",
      "\n"
     ]
    },
    {
     "name": "stderr",
     "output_type": "stream",
     "text": [
      "\n"
     ]
    }
   ],
   "source": [
    "#defining transformations for the MNIST dataset\n",
    "transform = transforms.Compose([\n",
    "    transforms.ToTensor(),\n",
    "    #normalizing to [-1, 1]\n",
    "    transforms.Normalize((0.5,), (0.5,))\n",
    "])\n",
    "\n",
    "#loading the MNIST dataset\n",
    "train_dataset = MNIST(root='./data', train=True, download=True, transform=transform)\n",
    "test_dataset = MNIST(root='./data', train=False, download=True, transform=transform)\n",
    "\n",
    "#creating data loaders for training and testing\n",
    "#dataLoader (refer: https://pytorch.org/tutorials/beginner/basics/data_tutorial.html)\n",
    "train_loader = DataLoader(train_dataset, batch_size=8, shuffle=True)\n",
    "test_loader = DataLoader(test_dataset, batch_size=8, shuffle=False)\n"
   ]
  },
  {
   "cell_type": "code",
   "execution_count": 4,
   "id": "22bc126d",
   "metadata": {
    "execution": {
     "iopub.execute_input": "2025-03-20T16:07:02.842557Z",
     "iopub.status.busy": "2025-03-20T16:07:02.842290Z",
     "iopub.status.idle": "2025-03-20T16:07:02.879708Z",
     "shell.execute_reply": "2025-03-20T16:07:02.878791Z"
    },
    "id": "DRY0SPAKSeWx",
    "papermill": {
     "duration": 0.044192,
     "end_time": "2025-03-20T16:07:02.881261",
     "exception": false,
     "start_time": "2025-03-20T16:07:02.837069",
     "status": "completed"
    },
    "tags": []
   },
   "outputs": [],
   "source": [
    "class KANC_MLP(nn.Module):\n",
    "    def __init__(self,grid_size: int = 5):\n",
    "        super().__init__()\n",
    "        self.conv1 = KAN_Convolutional_Layer(in_channels=1,\n",
    "            out_channels= 5,\n",
    "            kernel_size= (3,3),\n",
    "            grid_size = grid_size\n",
    "        )\n",
    "\n",
    "        self.conv2 = KAN_Convolutional_Layer(in_channels=5,\n",
    "            out_channels= 5,\n",
    "            kernel_size = (3,3),\n",
    "            grid_size = grid_size\n",
    "        )\n",
    "\n",
    "        self.pool1 = nn.MaxPool2d(\n",
    "            kernel_size=(2, 2)\n",
    "        )\n",
    "        \n",
    "        self.flat = nn.Flatten() \n",
    "        \n",
    "        self.linear1 = nn.Linear(125, 10)\n",
    "        self.name = f\"KANC MLP (Small) (gs = {grid_size})\"\n",
    "\n",
    "\n",
    "    def forward(self, x):\n",
    "        x = self.conv1(x)\n",
    "\n",
    "        x = self.pool1(x)\n",
    "\n",
    "        x = self.conv2(x)\n",
    "        x = self.pool1(x)\n",
    "        x = self.flat(x)\n",
    "        #print(x.shape)\n",
    "        x = self.linear1(x)\n",
    "        x = F.log_softmax(x, dim=1)\n",
    "        return x"
   ]
  },
  {
   "cell_type": "code",
   "execution_count": 5,
   "id": "92d472c4",
   "metadata": {
    "execution": {
     "iopub.execute_input": "2025-03-20T16:07:02.891356Z",
     "iopub.status.busy": "2025-03-20T16:07:02.891072Z",
     "iopub.status.idle": "2025-03-20T16:07:03.276769Z",
     "shell.execute_reply": "2025-03-20T16:07:03.276028Z"
    },
    "id": "SXDG2yVNSjUb",
    "papermill": {
     "duration": 0.39245,
     "end_time": "2025-03-20T16:07:03.278372",
     "exception": false,
     "start_time": "2025-03-20T16:07:02.885922",
     "status": "completed"
    },
    "tags": []
   },
   "outputs": [],
   "source": [
    "# Checking if GPU is available and use it if possible\n",
    "device = torch.device(\"cuda\" if torch.cuda.is_available() else \"cpu\")\n",
    "\n",
    "# Initializing the model and moving it to the appropriate device\n",
    "model_kanc = KANC_MLP().to(device)\n",
    "\n",
    "# Define the loss function and optimizer\n",
    "criterion = nn.CrossEntropyLoss()\n",
    "optimizer = torch.optim.Adam(model_kanc.parameters(), lr=0.001)"
   ]
  },
  {
   "cell_type": "code",
   "execution_count": 6,
   "id": "ce046694",
   "metadata": {
    "execution": {
     "iopub.execute_input": "2025-03-20T16:07:03.288615Z",
     "iopub.status.busy": "2025-03-20T16:07:03.288365Z",
     "iopub.status.idle": "2025-03-20T16:15:04.151546Z",
     "shell.execute_reply": "2025-03-20T16:15:04.150576Z"
    },
    "papermill": {
     "duration": 480.874723,
     "end_time": "2025-03-20T16:15:04.157917",
     "exception": false,
     "start_time": "2025-03-20T16:07:03.283194",
     "status": "completed"
    },
    "tags": []
   },
   "outputs": [
    {
     "name": "stdout",
     "output_type": "stream",
     "text": [
      "Epoch [1/1], Loss: 0.2144\n"
     ]
    }
   ],
   "source": [
    "#setting epochs for training\n",
    "epochs = 1\n",
    "\n",
    "#training the model\n",
    "for epoch in range(epochs):\n",
    "    model_kanc.train()\n",
    "    total_loss = 0.0\n",
    "    for images, labels in train_loader:\n",
    "        #moving labels and images to the device (GPU or CPU)\n",
    "        images, labels = images.to(device), labels.to(device)\n",
    "        #zero the parameter gradients\n",
    "        optimizer.zero_grad()\n",
    "        #forward pass\n",
    "        outputs = model_kanc(images)\n",
    "        #calculating the loss\n",
    "        loss = criterion(outputs, labels)\n",
    "        #backward pass and optimize\n",
    "        loss.backward()\n",
    "        optimizer.step()\n",
    "        #accumulating the loss for reporting\n",
    "        total_loss += loss.item()\n",
    "\n",
    "    #printing the average loss for the epoch\n",
    "    print(f\"Epoch [{epoch+1}/{epochs}], Loss: {total_loss/len(train_loader):.4f}\")"
   ]
  },
  {
   "cell_type": "code",
   "execution_count": 7,
   "id": "a182e318",
   "metadata": {
    "execution": {
     "iopub.execute_input": "2025-03-20T16:15:04.168385Z",
     "iopub.status.busy": "2025-03-20T16:15:04.168106Z",
     "iopub.status.idle": "2025-03-20T16:15:36.392168Z",
     "shell.execute_reply": "2025-03-20T16:15:36.391321Z"
    },
    "id": "G3ON1g796HrG",
    "outputId": "216e381d-d492-4e5f-d96a-048baced6bc5",
    "papermill": {
     "duration": 32.235586,
     "end_time": "2025-03-20T16:15:36.398280",
     "exception": false,
     "start_time": "2025-03-20T16:15:04.162694",
     "status": "completed"
    },
    "tags": []
   },
   "outputs": [
    {
     "name": "stdout",
     "output_type": "stream",
     "text": [
      "\n",
      "Test set:\n",
      " Accuracy: 0.98%, \n",
      " Precision: 0.98, \n",
      " Recall: 0.98, \n",
      " F1 Score: 0.98\n",
      "\n"
     ]
    }
   ],
   "source": [
    "#evaluating the model\n",
    "model_kanc.eval()\n",
    "test_loss = 0\n",
    "correct = 0\n",
    "all_targets = []\n",
    "all_predictions = []\n",
    "\n",
    "with torch.no_grad():\n",
    "  for images, labels in test_loader:\n",
    "    images, labels = images.to(device), labels.to(device)\n",
    "    #getting the predicted classes for this batch\n",
    "    output = model_kanc(images)\n",
    "    #calculating the loss for this batch\n",
    "    test_loss += criterion(output, labels).item()\n",
    "    #calculating the accuracy for this batch\n",
    "    _, predicted = torch.max(output.data, 1)\n",
    "    correct += (labels == predicted).sum().item()\n",
    "    #collecting all targets and predictions for metric calculations\n",
    "    all_targets.extend(labels.view_as(predicted).cpu().numpy())\n",
    "    all_predictions.extend(predicted.cpu().numpy())\n",
    "\n",
    "#normalizing test loss\n",
    "test_loss /= len(test_loader.dataset)\n",
    "#calculating accuracy\n",
    "accuracy = correct / len(test_loader.dataset)\n",
    "#calculating overall metrics\n",
    "precision = precision_score(all_targets, all_predictions, average='macro')\n",
    "recall = recall_score(all_targets, all_predictions, average='macro')\n",
    "f1 = f1_score(all_targets, all_predictions, average='macro')\n",
    "\n",
    "print('\\nTest set:\\n Accuracy: {:.2f}%, \\n Precision: {:.2f}, \\n Recall: {:.2f}, \\n F1 Score: {:.2f}\\n'.format(accuracy, precision, recall, f1))"
   ]
  }
 ],
 "metadata": {
  "colab": {
   "provenance": []
  },
  "kaggle": {
   "accelerator": "gpu",
   "dataSources": [],
   "dockerImageVersionId": 30919,
   "isGpuEnabled": true,
   "isInternetEnabled": true,
   "language": "python",
   "sourceType": "notebook"
  },
  "kernelspec": {
   "display_name": "Python 3",
   "language": "python",
   "name": "python3"
  },
  "language_info": {
   "codemirror_mode": {
    "name": "ipython",
    "version": 3
   },
   "file_extension": ".py",
   "mimetype": "text/x-python",
   "name": "python",
   "nbconvert_exporter": "python",
   "pygments_lexer": "ipython3",
   "version": "3.10.12"
  },
  "papermill": {
   "default_parameters": {},
   "duration": 535.009433,
   "end_time": "2025-03-20T16:15:38.848239",
   "environment_variables": {},
   "exception": null,
   "input_path": "__notebook__.ipynb",
   "output_path": "__notebook__.ipynb",
   "parameters": {},
   "start_time": "2025-03-20T16:06:43.838806",
   "version": "2.6.0"
  }
 },
 "nbformat": 4,
 "nbformat_minor": 5
}
